{
 "cells": [
  {
   "cell_type": "code",
   "execution_count": 15,
   "id": "b74d2f52",
   "metadata": {},
   "outputs": [
    {
     "data": {
      "image/png": "[encoded data removed]",
      "text/plain": [
       "<Figure size 432x288 with 1 Axes>"
      ]
     },
     "metadata": {
      "needs_background": "light"
     },
     "output_type": "display_data"
    },
    {
     "name": "stdout",
     "output_type": "stream",
     "text": [
      "Parabola equation: y = 0.0006033537799284626 x^2 + -0.6017913823053869 x + 454.86542586961576\n"
     ]
    },
    {
     "data": {
      "image/png": "[encoded data removed]",
      "text/plain": [
       "<Figure size 432x288 with 1 Axes>"
      ]
     },
     "metadata": {
      "needs_background": "light"
     },
     "output_type": "display_data"
    },
    {
     "name": "stdout",
     "output_type": "stream",
     "text": [
      "The x-coordinate of theball landing spot is 1352.86 pixels\n"
     ]
    }
   ],
   "source": [
    "import cv2 as cv\n",
    "import matplotlib.pyplot as plt\n",
    "import numpy as np\n",
    "a, b, c = coeff\n",
    "\n",
    "# Reading the video FILE\n",
    "video = cv.VideoCapture(\"ball.mov\")\n",
    "\n",
    "# Storing Pixel Co-ordinates in the arrays\n",
    "x = []\n",
    "y = []\n",
    "\n",
    "###############################################################\n",
    "#problem 1.1: Plotting the Center Coordinates of the ball#####\n",
    "################################################################\n",
    "\n",
    "while video.isOpened():\n",
    "    ret, frame = video.read()\n",
    "    if not ret:\n",
    "        break\n",
    "    else:\n",
    "        # Converting Colour to HSV Space\n",
    "        HSV = cv.cvtColor(frame, cv.COLOR_BGR2HSV)\n",
    "\n",
    "        # Filtering Red Channel\n",
    "        red_lower = np.array([0, 135, 135])\n",
    "        red_upper = np.array([4, 250, 250])\n",
    "\n",
    "        # Masking the ball\n",
    "        mask = cv.inRange(HSV, red_lower, red_upper)\n",
    "        masked_img = cv.bitwise_and(frame, frame, mask=mask)\n",
    "\n",
    "        #Finding Center of the Ball\n",
    "        center = np.nonzero(masked_img)\n",
    "        if len(center[0] > 0):\n",
    "            c_x = int(np.mean(center[1]))\n",
    "            c_y = int(np.mean(center[0]))\n",
    "        else:\n",
    "            c_x, c_y = 0, 0\n",
    "\n",
    "        # Making the array of X and Y co-ordinates of the center points of the ball.\n",
    "        x.append(c_x)\n",
    "        y.append(c_y)\n",
    "\n",
    "# Releasing the video\n",
    "video.release()\n",
    "\n",
    "# Plotting the center point of the ball\n",
    "plt.scatter(x, y, color=\"red\")\n",
    "plt.gca().invert_yaxis()\n",
    "plt.title(\"Pixel Coordinates of the center point of the ball\")\n",
    "plt.xlabel(\"X axis\")\n",
    "plt.ylabel(\"Y axis\")\n",
    "plt.show()\n",
    "\n",
    "\n",
    "##################################################################\n",
    "### Problem 1.2: Fitting the Curve Using Standard Least Squares###\n",
    "#################################################################\n",
    "\n",
    "\n",
    "#Converting X and Y to arrays\n",
    "x=np.array(x)\n",
    "y=np.array(y)\n",
    "\n",
    "#Masking the Data Points at (0,0)\n",
    "remove = (x != 0) & (y != 0)\n",
    "x = x[remove]\n",
    "y = y[remove]\n",
    "\n",
    "# Fit a quadratic curve to the coordinates using least squares\n",
    "x2 = np.power(x,2)\n",
    "X = np.column_stack([x2 , x, np.ones(len(x))])\n",
    "Y = np.row_stack(y)\n",
    "E = np.matmul(X.T, X)\n",
    "F = np.linalg.inv(E)\n",
    "R = np.matmul(F, X.T)\n",
    "B = np.matmul(R, Y)\n",
    "\n",
    "# Print the equation of the curve\n",
    "\n",
    "print(f\"Parabola equation: y = {a} x^2 + {b} x + {c}\")\n",
    "\n",
    "# Plot the data with the best fit curve\n",
    "x_plot = np.linspace(x.min(), x.max(), 100)\n",
    "y_plot = a*x_plot**2 + b*x_plot + c\n",
    "plt.scatter(x,y, color = \"red\")\n",
    "plt.plot(x_plot, y_plot, color='black', label='BEST CURVE FIT')\n",
    "plt.gca().invert_yaxis()\n",
    "plt.legend()\n",
    "plt.show()\n",
    "\n",
    "\n",
    "#######################################################################\n",
    "####Problem 1.3: Finding the X Co-ordinates of the ball Landing Spot###\n",
    "#######################################################################\n",
    "\n",
    "\n",
    "y_1 = y[0]\n",
    "y_landing = y_1 + 300\n",
    "x_landing = (-b + np.sqrt(b**2 - 4*a*(c - y_landing))) / (2*a)\n",
    "\n",
    "print(f\"The x-coordinate of theball landing spot is {x_landing:.2f} pixels\")"
   ]
  },
  {
   "cell_type": "code",
   "execution_count": null,
   "id": "f246c039",
   "metadata": {},
   "outputs": [],
   "source": []
  },
  {
   "cell_type": "code",
   "execution_count": null,
   "id": "4ab63c1a",
   "metadata": {},
   "outputs": [],
   "source": []
  }
 ],
 "metadata": {
  "kernelspec": {
   "display_name": "Python 3",
   "language": "python",
   "name": "python3"
  },
  "language_info": {
   "codemirror_mode": {
    "name": "ipython",
    "version": 3
   },
   "file_extension": ".py",
   "mimetype": "text/x-python",
   "name": "python",
   "nbconvert_exporter": "python",
   "pygments_lexer": "ipython3",
   "version": "3.8.8"
  }
 },
 "nbformat": 4,
 "nbformat_minor": 5
}
